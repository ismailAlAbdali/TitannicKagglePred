{
 "cells": [
  {
   "cell_type": "markdown",
   "id": "c9d69943",
   "metadata": {},
   "source": [
    "# Predictiong the likely hood of Surviving in Titantic shipwreak\n",
    "this notebook will use python-based Machine learning models to predict whether a passenger servivides the shipwreck or not.\n",
    "\n",
    "## 1. Problem Definition:\n",
    "> given a passenger features, can we predict wheter a passenger can survive the titanic shipwreck or not ? \n",
    "\n",
    "## 2. Data.\n",
    "the original data came from kaggle look at for more info URL:https://www.kaggle.com/competitions/titanic/data\n",
    "The data has been split into two groups:\n",
    "\n",
    "training set (train.csv)\n",
    "test set (test.csv)\n",
    "The training set should be used to build your machine learning models. For the training set, we provide the outcome (also known as the “ground truth”) for each passenger. Your model will be based on “features” like passengers’ gender and class. You can also use feature engineering to create new features.\n",
    "\n",
    "The test set should be used to see how well your model performs on unseen data. For the test set, we do not provide the ground truth for each passenger. It is your job to predict these outcomes. For each passenger in the test set, use the model you trained to predict whether or not they survived the sinking of the Titanic.\n",
    "\n",
    "We also include gender_submission.csv, a set of predictions that assume all and only female passengers survive, as an example of what a submission file should look like.\n",
    "\n",
    "\n",
    "## 3. Evalution\n",
    "the evalution matrice for this problem is going to be accuracy: which is going to correct predicted fining of passengers.\n",
    "\n",
    "## 4. Features:\n",
    "Kaggle provides a data dictory detailing what each feature means, those can be found in the URL:\n",
    "https://www.kaggle.com/competitions/titanic/data"
   ]
  },
  {
   "cell_type": "code",
   "execution_count": 1,
   "id": "5918ee0f",
   "metadata": {},
   "outputs": [],
   "source": [
    "import pandas as pd\n",
    "import numpy as np\n",
    "import matplotlib.pyplot as plt"
   ]
  },
  {
   "cell_type": "markdown",
   "id": "259f2cd6",
   "metadata": {},
   "source": [
    "### first lets discover our data and try to find some relastionships and even use confusion matrix to discover it."
   ]
  },
  {
   "cell_type": "code",
   "execution_count": 33,
   "id": "9568cea7",
   "metadata": {},
   "outputs": [
    {
     "data": {
      "text/html": [
       "<div>\n",
       "<style scoped>\n",
       "    .dataframe tbody tr th:only-of-type {\n",
       "        vertical-align: middle;\n",
       "    }\n",
       "\n",
       "    .dataframe tbody tr th {\n",
       "        vertical-align: top;\n",
       "    }\n",
       "\n",
       "    .dataframe thead th {\n",
       "        text-align: right;\n",
       "    }\n",
       "</style>\n",
       "<table border=\"1\" class=\"dataframe\">\n",
       "  <thead>\n",
       "    <tr style=\"text-align: right;\">\n",
       "      <th></th>\n",
       "      <th>PassengerId</th>\n",
       "      <th>Survived</th>\n",
       "      <th>Pclass</th>\n",
       "      <th>Name</th>\n",
       "      <th>Sex</th>\n",
       "      <th>Age</th>\n",
       "      <th>SibSp</th>\n",
       "      <th>Parch</th>\n",
       "      <th>Ticket</th>\n",
       "      <th>Fare</th>\n",
       "      <th>Cabin</th>\n",
       "      <th>Embarked</th>\n",
       "    </tr>\n",
       "  </thead>\n",
       "  <tbody>\n",
       "    <tr>\n",
       "      <th>0</th>\n",
       "      <td>1</td>\n",
       "      <td>0</td>\n",
       "      <td>3</td>\n",
       "      <td>Braund, Mr. Owen Harris</td>\n",
       "      <td>male</td>\n",
       "      <td>22.0</td>\n",
       "      <td>1</td>\n",
       "      <td>0</td>\n",
       "      <td>A/5 21171</td>\n",
       "      <td>7.2500</td>\n",
       "      <td>NaN</td>\n",
       "      <td>S</td>\n",
       "    </tr>\n",
       "    <tr>\n",
       "      <th>1</th>\n",
       "      <td>2</td>\n",
       "      <td>1</td>\n",
       "      <td>1</td>\n",
       "      <td>Cumings, Mrs. John Bradley (Florence Briggs Th...</td>\n",
       "      <td>female</td>\n",
       "      <td>38.0</td>\n",
       "      <td>1</td>\n",
       "      <td>0</td>\n",
       "      <td>PC 17599</td>\n",
       "      <td>71.2833</td>\n",
       "      <td>C85</td>\n",
       "      <td>C</td>\n",
       "    </tr>\n",
       "    <tr>\n",
       "      <th>2</th>\n",
       "      <td>3</td>\n",
       "      <td>1</td>\n",
       "      <td>3</td>\n",
       "      <td>Heikkinen, Miss. Laina</td>\n",
       "      <td>female</td>\n",
       "      <td>26.0</td>\n",
       "      <td>0</td>\n",
       "      <td>0</td>\n",
       "      <td>STON/O2. 3101282</td>\n",
       "      <td>7.9250</td>\n",
       "      <td>NaN</td>\n",
       "      <td>S</td>\n",
       "    </tr>\n",
       "    <tr>\n",
       "      <th>3</th>\n",
       "      <td>4</td>\n",
       "      <td>1</td>\n",
       "      <td>1</td>\n",
       "      <td>Futrelle, Mrs. Jacques Heath (Lily May Peel)</td>\n",
       "      <td>female</td>\n",
       "      <td>35.0</td>\n",
       "      <td>1</td>\n",
       "      <td>0</td>\n",
       "      <td>113803</td>\n",
       "      <td>53.1000</td>\n",
       "      <td>C123</td>\n",
       "      <td>S</td>\n",
       "    </tr>\n",
       "    <tr>\n",
       "      <th>4</th>\n",
       "      <td>5</td>\n",
       "      <td>0</td>\n",
       "      <td>3</td>\n",
       "      <td>Allen, Mr. William Henry</td>\n",
       "      <td>male</td>\n",
       "      <td>35.0</td>\n",
       "      <td>0</td>\n",
       "      <td>0</td>\n",
       "      <td>373450</td>\n",
       "      <td>8.0500</td>\n",
       "      <td>NaN</td>\n",
       "      <td>S</td>\n",
       "    </tr>\n",
       "    <tr>\n",
       "      <th>...</th>\n",
       "      <td>...</td>\n",
       "      <td>...</td>\n",
       "      <td>...</td>\n",
       "      <td>...</td>\n",
       "      <td>...</td>\n",
       "      <td>...</td>\n",
       "      <td>...</td>\n",
       "      <td>...</td>\n",
       "      <td>...</td>\n",
       "      <td>...</td>\n",
       "      <td>...</td>\n",
       "      <td>...</td>\n",
       "    </tr>\n",
       "    <tr>\n",
       "      <th>886</th>\n",
       "      <td>887</td>\n",
       "      <td>0</td>\n",
       "      <td>2</td>\n",
       "      <td>Montvila, Rev. Juozas</td>\n",
       "      <td>male</td>\n",
       "      <td>27.0</td>\n",
       "      <td>0</td>\n",
       "      <td>0</td>\n",
       "      <td>211536</td>\n",
       "      <td>13.0000</td>\n",
       "      <td>NaN</td>\n",
       "      <td>S</td>\n",
       "    </tr>\n",
       "    <tr>\n",
       "      <th>887</th>\n",
       "      <td>888</td>\n",
       "      <td>1</td>\n",
       "      <td>1</td>\n",
       "      <td>Graham, Miss. Margaret Edith</td>\n",
       "      <td>female</td>\n",
       "      <td>19.0</td>\n",
       "      <td>0</td>\n",
       "      <td>0</td>\n",
       "      <td>112053</td>\n",
       "      <td>30.0000</td>\n",
       "      <td>B42</td>\n",
       "      <td>S</td>\n",
       "    </tr>\n",
       "    <tr>\n",
       "      <th>888</th>\n",
       "      <td>889</td>\n",
       "      <td>0</td>\n",
       "      <td>3</td>\n",
       "      <td>Johnston, Miss. Catherine Helen \"Carrie\"</td>\n",
       "      <td>female</td>\n",
       "      <td>NaN</td>\n",
       "      <td>1</td>\n",
       "      <td>2</td>\n",
       "      <td>W./C. 6607</td>\n",
       "      <td>23.4500</td>\n",
       "      <td>NaN</td>\n",
       "      <td>S</td>\n",
       "    </tr>\n",
       "    <tr>\n",
       "      <th>889</th>\n",
       "      <td>890</td>\n",
       "      <td>1</td>\n",
       "      <td>1</td>\n",
       "      <td>Behr, Mr. Karl Howell</td>\n",
       "      <td>male</td>\n",
       "      <td>26.0</td>\n",
       "      <td>0</td>\n",
       "      <td>0</td>\n",
       "      <td>111369</td>\n",
       "      <td>30.0000</td>\n",
       "      <td>C148</td>\n",
       "      <td>C</td>\n",
       "    </tr>\n",
       "    <tr>\n",
       "      <th>890</th>\n",
       "      <td>891</td>\n",
       "      <td>0</td>\n",
       "      <td>3</td>\n",
       "      <td>Dooley, Mr. Patrick</td>\n",
       "      <td>male</td>\n",
       "      <td>32.0</td>\n",
       "      <td>0</td>\n",
       "      <td>0</td>\n",
       "      <td>370376</td>\n",
       "      <td>7.7500</td>\n",
       "      <td>NaN</td>\n",
       "      <td>Q</td>\n",
       "    </tr>\n",
       "  </tbody>\n",
       "</table>\n",
       "<p>891 rows × 12 columns</p>\n",
       "</div>"
      ],
      "text/plain": [
       "     PassengerId  Survived  Pclass  \\\n",
       "0              1         0       3   \n",
       "1              2         1       1   \n",
       "2              3         1       3   \n",
       "3              4         1       1   \n",
       "4              5         0       3   \n",
       "..           ...       ...     ...   \n",
       "886          887         0       2   \n",
       "887          888         1       1   \n",
       "888          889         0       3   \n",
       "889          890         1       1   \n",
       "890          891         0       3   \n",
       "\n",
       "                                                  Name     Sex   Age  SibSp  \\\n",
       "0                              Braund, Mr. Owen Harris    male  22.0      1   \n",
       "1    Cumings, Mrs. John Bradley (Florence Briggs Th...  female  38.0      1   \n",
       "2                               Heikkinen, Miss. Laina  female  26.0      0   \n",
       "3         Futrelle, Mrs. Jacques Heath (Lily May Peel)  female  35.0      1   \n",
       "4                             Allen, Mr. William Henry    male  35.0      0   \n",
       "..                                                 ...     ...   ...    ...   \n",
       "886                              Montvila, Rev. Juozas    male  27.0      0   \n",
       "887                       Graham, Miss. Margaret Edith  female  19.0      0   \n",
       "888           Johnston, Miss. Catherine Helen \"Carrie\"  female   NaN      1   \n",
       "889                              Behr, Mr. Karl Howell    male  26.0      0   \n",
       "890                                Dooley, Mr. Patrick    male  32.0      0   \n",
       "\n",
       "     Parch            Ticket     Fare Cabin Embarked  \n",
       "0        0         A/5 21171   7.2500   NaN        S  \n",
       "1        0          PC 17599  71.2833   C85        C  \n",
       "2        0  STON/O2. 3101282   7.9250   NaN        S  \n",
       "3        0            113803  53.1000  C123        S  \n",
       "4        0            373450   8.0500   NaN        S  \n",
       "..     ...               ...      ...   ...      ...  \n",
       "886      0            211536  13.0000   NaN        S  \n",
       "887      0            112053  30.0000   B42        S  \n",
       "888      2        W./C. 6607  23.4500   NaN        S  \n",
       "889      0            111369  30.0000  C148        C  \n",
       "890      0            370376   7.7500   NaN        Q  \n",
       "\n",
       "[891 rows x 12 columns]"
      ]
     },
     "execution_count": 33,
     "metadata": {},
     "output_type": "execute_result"
    }
   ],
   "source": [
    "df = pd.read_csv(\"./data/train.csv\")\n",
    "df"
   ]
  },
  {
   "cell_type": "code",
   "execution_count": 4,
   "id": "bd0048a8",
   "metadata": {},
   "outputs": [
    {
     "name": "stdout",
     "output_type": "stream",
     "text": [
      "<class 'pandas.core.frame.DataFrame'>\n",
      "RangeIndex: 891 entries, 0 to 890\n",
      "Data columns (total 12 columns):\n",
      " #   Column       Non-Null Count  Dtype  \n",
      "---  ------       --------------  -----  \n",
      " 0   PassengerId  891 non-null    int64  \n",
      " 1   Survived     891 non-null    int64  \n",
      " 2   Pclass       891 non-null    int64  \n",
      " 3   Name         891 non-null    object \n",
      " 4   Sex          891 non-null    object \n",
      " 5   Age          714 non-null    float64\n",
      " 6   SibSp        891 non-null    int64  \n",
      " 7   Parch        891 non-null    int64  \n",
      " 8   Ticket       891 non-null    object \n",
      " 9   Fare         891 non-null    float64\n",
      " 10  Cabin        204 non-null    object \n",
      " 11  Embarked     889 non-null    object \n",
      "dtypes: float64(2), int64(5), object(5)\n",
      "memory usage: 83.7+ KB\n"
     ]
    }
   ],
   "source": [
    "df.info()"
   ]
  },
  {
   "cell_type": "markdown",
   "id": "b2a05ddf",
   "metadata": {},
   "source": [
    "### survivied is the class i am trying to predict in this case"
   ]
  },
  {
   "cell_type": "markdown",
   "id": "cc5d6732",
   "metadata": {},
   "source": [
    "let's compare sex and survivially of passengers."
   ]
  },
  {
   "cell_type": "code",
   "execution_count": 36,
   "id": "f41f38b5",
   "metadata": {},
   "outputs": [
    {
     "data": {
      "text/plain": [
       "male      577\n",
       "female    314\n",
       "Name: Sex, dtype: int64"
      ]
     },
     "execution_count": 36,
     "metadata": {},
     "output_type": "execute_result"
    }
   ],
   "source": [
    "df.Sex.value_counts()"
   ]
  },
  {
   "cell_type": "code",
   "execution_count": 39,
   "id": "5e11f9a9",
   "metadata": {},
   "outputs": [
    {
     "data": {
      "text/plain": [
       "Survived  Sex   \n",
       "0         male      468\n",
       "          female     81\n",
       "1         female    233\n",
       "          male      109\n",
       "Name: Sex, dtype: int64"
      ]
     },
     "execution_count": 39,
     "metadata": {},
     "output_type": "execute_result"
    }
   ],
   "source": [
    "df.groupby('Survived').Sex.value_counts()"
   ]
  },
  {
   "cell_type": "code",
   "execution_count": 43,
   "id": "4af7bb4d",
   "metadata": {},
   "outputs": [
    {
     "data": {
      "text/plain": [
       "<AxesSubplot:>"
      ]
     },
     "execution_count": 43,
     "metadata": {},
     "output_type": "execute_result"
    },
    {
     "data": {
      "image/png": "[encoded data removed]",
      "text/plain": [
       "<Figure size 576x576 with 1 Axes>"
      ]
     },
     "metadata": {
      "needs_background": "light"
     },
     "output_type": "display_data"
    }
   ],
   "source": [
    "fig,ax = plt.subplots(figsize = (8,8))\n",
    "group['Sex'].value_counts().plot(kind='bar', ax=ax, color=\"red\", label=\"Survived\")"
   ]
  },
  {
   "cell_type": "code",
   "execution_count": 45,
   "id": "27829f18",
   "metadata": {},
   "outputs": [],
   "source": [
    "countsSex = df.groupby('Survived')['Sex'].value_counts().unstack()"
   ]
  },
  {
   "cell_type": "code",
   "execution_count": 50,
   "id": "28fd2914",
   "metadata": {},
   "outputs": [
    {
     "data": {
      "text/html": [
       "<div>\n",
       "<style scoped>\n",
       "    .dataframe tbody tr th:only-of-type {\n",
       "        vertical-align: middle;\n",
       "    }\n",
       "\n",
       "    .dataframe tbody tr th {\n",
       "        vertical-align: top;\n",
       "    }\n",
       "\n",
       "    .dataframe thead th {\n",
       "        text-align: right;\n",
       "    }\n",
       "</style>\n",
       "<table border=\"1\" class=\"dataframe\">\n",
       "  <thead>\n",
       "    <tr style=\"text-align: right;\">\n",
       "      <th>Sex</th>\n",
       "      <th>female</th>\n",
       "      <th>male</th>\n",
       "    </tr>\n",
       "    <tr>\n",
       "      <th>Survived</th>\n",
       "      <th></th>\n",
       "      <th></th>\n",
       "    </tr>\n",
       "  </thead>\n",
       "  <tbody>\n",
       "    <tr>\n",
       "      <th>0</th>\n",
       "      <td>81</td>\n",
       "      <td>468</td>\n",
       "    </tr>\n",
       "    <tr>\n",
       "      <th>1</th>\n",
       "      <td>233</td>\n",
       "      <td>109</td>\n",
       "    </tr>\n",
       "  </tbody>\n",
       "</table>\n",
       "</div>"
      ],
      "text/plain": [
       "Sex       female  male\n",
       "Survived              \n",
       "0             81   468\n",
       "1            233   109"
      ]
     },
     "execution_count": 50,
     "metadata": {},
     "output_type": "execute_result"
    }
   ],
   "source": [
    "countsSex"
   ]
  },
  {
   "cell_type": "code",
   "execution_count": 54,
   "id": "e8475546",
   "metadata": {},
   "outputs": [
    {
     "data": {
      "image/png": "[encoded data removed]",
      "text/plain": [
       "<Figure size 720x720 with 1 Axes>"
      ]
     },
     "metadata": {
      "needs_background": "light"
     },
     "output_type": "display_data"
    }
   ],
   "source": [
    "fig,ax = plt.subplots(figsize = (10,10))\n",
    "countsSex.plot(kind = \"bar\", stacked = True,ax = ax)\n",
    "ax.set(title= \"Surviabilty Vs Sex\", xlabel = \"survivability\", ylabel =\"Counts\")\n",
    "plt.legend([\"Female\", \"Male\"])\n",
    "plt.show()"
   ]
  },
  {
   "cell_type": "markdown",
   "id": "925f0671",
   "metadata": {},
   "source": [
    "##### We can see that females are more likely to survive the titanicy sinking"
   ]
  },
  {
   "cell_type": "markdown",
   "id": "1824ac1b",
   "metadata": {},
   "source": [
    "### now let's fix our data and put all in numbers to train it into a model"
   ]
  },
  {
   "cell_type": "code",
   "execution_count": 56,
   "id": "ad21c7da",
   "metadata": {},
   "outputs": [
    {
     "name": "stdout",
     "output_type": "stream",
     "text": [
      "<class 'pandas.core.frame.DataFrame'>\n",
      "RangeIndex: 891 entries, 0 to 890\n",
      "Data columns (total 12 columns):\n",
      " #   Column       Non-Null Count  Dtype  \n",
      "---  ------       --------------  -----  \n",
      " 0   PassengerId  891 non-null    int64  \n",
      " 1   Survived     891 non-null    int64  \n",
      " 2   Pclass       891 non-null    int64  \n",
      " 3   Name         891 non-null    object \n",
      " 4   Sex          891 non-null    object \n",
      " 5   Age          714 non-null    float64\n",
      " 6   SibSp        891 non-null    int64  \n",
      " 7   Parch        891 non-null    int64  \n",
      " 8   Ticket       891 non-null    object \n",
      " 9   Fare         891 non-null    float64\n",
      " 10  Cabin        204 non-null    object \n",
      " 11  Embarked     889 non-null    object \n",
      "dtypes: float64(2), int64(5), object(5)\n",
      "memory usage: 83.7+ KB\n"
     ]
    }
   ],
   "source": [
    "df.info()"
   ]
  },
  {
   "cell_type": "code",
   "execution_count": 57,
   "id": "ac658f5f",
   "metadata": {},
   "outputs": [
    {
     "data": {
      "text/plain": [
       "PassengerId      0\n",
       "Survived         0\n",
       "Pclass           0\n",
       "Name             0\n",
       "Sex              0\n",
       "Age            177\n",
       "SibSp            0\n",
       "Parch            0\n",
       "Ticket           0\n",
       "Fare             0\n",
       "Cabin          687\n",
       "Embarked         2\n",
       "dtype: int64"
      ]
     },
     "execution_count": 57,
     "metadata": {},
     "output_type": "execute_result"
    }
   ],
   "source": [
    "df.isna().sum()"
   ]
  },
  {
   "cell_type": "code",
   "execution_count": 58,
   "id": "58504479",
   "metadata": {},
   "outputs": [],
   "source": [
    "df_tmp = df.copy()"
   ]
  },
  {
   "cell_type": "markdown",
   "id": "994a80f0",
   "metadata": {},
   "source": [
    "lets fill up the data that is numberic with medium"
   ]
  },
  {
   "cell_type": "code",
   "execution_count": 59,
   "id": "7ab2f8ae",
   "metadata": {},
   "outputs": [],
   "source": [
    "# filling numbers \n",
    "for label,content in df_tmp.items():\n",
    "    if pd.api.types.is_numeric_dtype(content):\n",
    "        if pd.isnull(content).sum(): # check for null values of numberic\n",
    "            # add binary column which tells us whether that data actually missing\n",
    "            df_tmp[label + \"is_missing\"] = pd.isnull(content)\n",
    "            # fill missing numebric data \n",
    "            df_tmp[label] = content.fillna(content.median)"
   ]
  },
  {
   "cell_type": "markdown",
   "id": "81ea62d7",
   "metadata": {},
   "source": [
    "##### now if the data is not numberic we are going to fill with with its code but also we are going to add a codes for that NaN value"
   ]
  },
  {
   "cell_type": "code",
   "execution_count": 62,
   "id": "436932e1",
   "metadata": {},
   "outputs": [],
   "source": [
    "# fill non numberic data and put non numebric data into discrete data\n",
    "for label, content in df_tmp.items():\n",
    "    if not pd.api.types.is_numeric_dtype(content):\n",
    "        # add a colum showing we have data missing in a certain column\n",
    "        df_tmp[label+\"is_missing\"] = pd.isnull(content)\n",
    "        # now put tat data into categorical order and add a 1 to it\n",
    "        df_tmp[label] = pd.Categorical(content).codes+1"
   ]
  },
  {
   "cell_type": "code",
   "execution_count": 71,
   "id": "9d9ac094",
   "metadata": {},
   "outputs": [],
   "source": [
    "for label, content in df_tmp.items():\n",
    "    if label.find(\"is_missing\") != -1:\n",
    "        df_tmp[label] = df_tmp[label].astype(\"category\").cat.codes"
   ]
  },
  {
   "cell_type": "code",
   "execution_count": 166,
   "id": "53895d17",
   "metadata": {},
   "outputs": [],
   "source": [
    "### lets make a function that fixes our data to be used for train and test set\n",
    "\n",
    "def preprocess_data(df):\n",
    "    \"\"\"\n",
    "    this functions returns a dataframe that fixes the data.\n",
    "    it will deal with missing values in our data and convert non-numeric values to be numeric\n",
    "    \"\"\"\n",
    "    df_tmp = df.copy()\n",
    "    \n",
    "    if \"Survived\" in df_tmp.columns:\n",
    "        df_tmp.drop(\"Survived\",axis = 1 , inplace = True)\n",
    "    # filling numbers \n",
    "    for label,content in df_tmp.items():\n",
    "        if pd.api.types.is_numeric_dtype(content):\n",
    "            # add binary column which tells us whether that data actually missing\n",
    "            df_tmp[label + \"_is_missing\"] = pd.isnull(content)\n",
    "            if pd.isnull(content).sum(): # check for null values of numberic\n",
    "                # fill missing numebric data \n",
    "                df_tmp[label] = content.fillna(content.median())\n",
    "            print(label)\n",
    "        else:\n",
    "            # add a colum showing we have data missing in a certain column\n",
    "            df_tmp[label+\"_is_missing\"] = pd.isnull(content)\n",
    "            # now put tat data into categorical order and add a 1 to it\n",
    "            df_tmp[label] = pd.Categorical(content).codes+1\n",
    "    \n",
    "    for label, content in df_tmp.items():\n",
    "        if label.find(\"_is_missing\") != -1:\n",
    "            df_tmp[label] = df_tmp[label].astype(\"category\").cat.codes\n",
    "    \n",
    "    ## return the fixed dataFrame\n",
    "    return df_tmp\n",
    "    "
   ]
  },
  {
   "cell_type": "code",
   "execution_count": 160,
   "id": "045353e6",
   "metadata": {},
   "outputs": [
    {
     "data": {
      "text/plain": [
       "Index(['PassengerId', 'Survived', 'Pclass', 'Name', 'Sex', 'Age', 'SibSp',\n",
       "       'Parch', 'Ticket', 'Fare', 'Cabin', 'Embarked', 'Ageis_missing',\n",
       "       'Nameis_missing', 'Sexis_missing', 'Ticketis_missing',\n",
       "       'Cabinis_missing', 'Embarkedis_missing'],\n",
       "      dtype='object')"
      ]
     },
     "execution_count": 160,
     "metadata": {},
     "output_type": "execute_result"
    }
   ],
   "source": [
    "df_tmp.columns"
   ]
  },
  {
   "cell_type": "markdown",
   "id": "db9d459f",
   "metadata": {},
   "source": [
    "### now that we have got our data ready let's split it into test and traingset\n"
   ]
  },
  {
   "cell_type": "code",
   "execution_count": 76,
   "id": "a64b11e6",
   "metadata": {},
   "outputs": [],
   "source": [
    "from sklearn.model_selection import train_test_split\n",
    "x_train,x_test, y_train , y_test = train_test_split(df_tmp.drop(\"Survived\",axis = 1),df_tmp[\"Survived\"],test_size = 0.2)"
   ]
  },
  {
   "cell_type": "markdown",
   "id": "e90ce7e9",
   "metadata": {},
   "source": [
    "now that we've got our data splited into train and test set lets try to put in it into our model"
   ]
  },
  {
   "cell_type": "code",
   "execution_count": 79,
   "id": "ae06d0ce",
   "metadata": {},
   "outputs": [],
   "source": [
    "from sklearn.ensemble import RandomForestClassifier\n",
    "from sklearn.metrics import accuracy_score"
   ]
  },
  {
   "cell_type": "code",
   "execution_count": 80,
   "id": "89ba0e98",
   "metadata": {},
   "outputs": [],
   "source": [
    "model = RandomForestClassifier()\n",
    "model.fit(x_train,y_train)\n",
    "y_pred = model.predict(x_test)"
   ]
  },
  {
   "cell_type": "code",
   "execution_count": 82,
   "id": "ff4538db",
   "metadata": {},
   "outputs": [
    {
     "data": {
      "text/plain": [
       "0.8156424581005587"
      ]
     },
     "execution_count": 82,
     "metadata": {},
     "output_type": "execute_result"
    }
   ],
   "source": [
    "score= accuracy_score(y_test,y_pred)\n",
    "score"
   ]
  },
  {
   "cell_type": "markdown",
   "id": "79c8d0bc",
   "metadata": {},
   "source": [
    "now lets use grid serach cv and make some hyperparameter tuning. \n",
    "\n"
   ]
  },
  {
   "cell_type": "code",
   "execution_count": 86,
   "id": "96ebce57",
   "metadata": {},
   "outputs": [
    {
     "name": "stdout",
     "output_type": "stream",
     "text": [
      "Fitting 5 folds for each of 72 candidates, totalling 360 fits\n",
      "CPU times: total: 30.2 s\n",
      "Wall time: 33.6 s\n"
     ]
    },
    {
     "data": {
      "text/plain": [
       "GridSearchCV(cv=5, estimator=RandomForestClassifier(n_jobs=-1, random_state=42),\n",
       "             param_grid={'max_depth': [None, 3, 5, 10],\n",
       "                         'min_samples_split': array([2, 4]),\n",
       "                         'n_estimators': array([10, 20, 30, 40, 50, 60, 70, 80, 90])},\n",
       "             verbose=True)"
      ]
     },
     "execution_count": 86,
     "metadata": {},
     "output_type": "execute_result"
    }
   ],
   "source": [
    "%%time\n",
    "from sklearn.model_selection import GridSearchCV\n",
    "rf_grid = {\n",
    "    \"n_estimators\":np.arange(10,200,10),\n",
    "    \"max_depth\":[None,3,5,10],\n",
    "    \"min_samples_split\": np.arange(2,10,2)\n",
    "}\n",
    "rc_model = GridSearchCV(RandomForestClassifier(n_jobs = -1,\n",
    "                                              random_state = 42),param_grid = rf_grid,\n",
    "                       cv = 5,\n",
    "                       verbose = True)\n",
    "rc_model.fit(x_train,y_train)"
   ]
  },
  {
   "cell_type": "code",
   "execution_count": 87,
   "id": "44c3a60f",
   "metadata": {},
   "outputs": [
    {
     "data": {
      "text/plain": [
       "{'max_depth': None, 'min_samples_split': 2, 'n_estimators': 40}"
      ]
     },
     "execution_count": 87,
     "metadata": {},
     "output_type": "execute_result"
    }
   ],
   "source": [
    "rc_model.best_params_"
   ]
  },
  {
   "cell_type": "code",
   "execution_count": 94,
   "id": "15de3405",
   "metadata": {},
   "outputs": [
    {
     "data": {
      "text/plain": [
       "(179, 179)"
      ]
     },
     "execution_count": 94,
     "metadata": {},
     "output_type": "execute_result"
    }
   ],
   "source": [
    "y_pred = rc_model.predict(x_test)\n",
    "len(y_pred), len(y_test)"
   ]
  },
  {
   "cell_type": "code",
   "execution_count": 95,
   "id": "cf180211",
   "metadata": {},
   "outputs": [
    {
     "data": {
      "text/plain": [
       "0.7988826815642458"
      ]
     },
     "execution_count": 95,
     "metadata": {},
     "output_type": "execute_result"
    }
   ],
   "source": [
    "score = accuracy_score(y_test,y_pred)\n",
    "score"
   ]
  },
  {
   "cell_type": "code",
   "execution_count": 100,
   "id": "6c5c3d74",
   "metadata": {},
   "outputs": [
    {
     "name": "stderr",
     "output_type": "stream",
     "text": [
      "C:\\Users\\Al Abdali\\anaconda3\\lib\\site-packages\\sklearn\\model_selection\\_search.py:292: UserWarning: The total space of parameters 72 is smaller than n_iter=100. Running 72 iterations. For exhaustive searches, use GridSearchCV.\n",
      "  warnings.warn(\n"
     ]
    },
    {
     "name": "stdout",
     "output_type": "stream",
     "text": [
      "Fitting 5 folds for each of 72 candidates, totalling 360 fits\n",
      "CPU times: total: 29.8 s\n",
      "Wall time: 29 s\n"
     ]
    },
    {
     "data": {
      "text/plain": [
       "RandomizedSearchCV(cv=5,\n",
       "                   estimator=RandomForestClassifier(n_jobs=-1, random_state=42),\n",
       "                   n_iter=100,\n",
       "                   param_distributions={'max_depth': [None, 3, 5, 10],\n",
       "                                        'min_samples_split': array([2, 4]),\n",
       "                                        'n_estimators': array([10, 20, 30, 40, 50, 60, 70, 80, 90])},\n",
       "                   verbose=True)"
      ]
     },
     "execution_count": 100,
     "metadata": {},
     "output_type": "execute_result"
    }
   ],
   "source": [
    "%%time\n",
    "### Now lets use RandsomizedSearchCV\n",
    "from sklearn.model_selection import RandomizedSearchCV\n",
    "\n",
    "rs_model = RandomizedSearchCV(RandomForestClassifier(n_jobs = -1,\n",
    "                                                    random_state = 42),\n",
    "                             param_distributions=rf_grid,\n",
    "                             n_iter = 100,\n",
    "                             cv = 5,\n",
    "                             verbose = True)\n",
    "# now fit our model \n",
    "rs_model.fit(x_train,y_train)"
   ]
  },
  {
   "cell_type": "code",
   "execution_count": 99,
   "id": "0b13841c",
   "metadata": {},
   "outputs": [
    {
     "data": {
      "text/plain": [
       "0.7988826815642458"
      ]
     },
     "execution_count": 99,
     "metadata": {},
     "output_type": "execute_result"
    }
   ],
   "source": [
    "accuracy_score(y_test,rs_model.predict(x_test))"
   ]
  },
  {
   "cell_type": "code",
   "execution_count": 174,
   "id": "92b79a46",
   "metadata": {},
   "outputs": [
    {
     "name": "stdout",
     "output_type": "stream",
     "text": [
      "PassengerId\n",
      "Pclass\n",
      "Age\n",
      "SibSp\n",
      "Parch\n",
      "Fare\n",
      "PassengerId\n",
      "Pclass\n",
      "Age\n",
      "SibSp\n",
      "Parch\n",
      "Fare\n"
     ]
    }
   ],
   "source": [
    "train = pd.read_csv(\"./data/train.csv\")\n",
    "test = pd.read_csv(\"./data/test.csv\")\n",
    "x_train,y_train = preprocess_data(train),train[\"Survived\"]\n",
    "fixed_test = preprocess_data(test)\n",
    "x_train[\"Survived\"] = y_train\n",
    "fixed_train = x_train"
   ]
  },
  {
   "cell_type": "code",
   "execution_count": 144,
   "id": "b2ad29fa",
   "metadata": {},
   "outputs": [
    {
     "data": {
      "text/plain": [
       "count    891.000000\n",
       "mean      32.204208\n",
       "std       49.693429\n",
       "min        0.000000\n",
       "25%        7.910400\n",
       "50%       14.454200\n",
       "75%       31.000000\n",
       "max      512.329200\n",
       "Name: Fare, dtype: float64"
      ]
     },
     "execution_count": 144,
     "metadata": {},
     "output_type": "execute_result"
    }
   ],
   "source": [
    "train.Fare.describe()"
   ]
  },
  {
   "cell_type": "code",
   "execution_count": 171,
   "id": "926f20ba",
   "metadata": {},
   "outputs": [
    {
     "name": "stdout",
     "output_type": "stream",
     "text": [
      "<class 'pandas.core.frame.DataFrame'>\n",
      "RangeIndex: 418 entries, 0 to 417\n",
      "Data columns (total 22 columns):\n",
      " #   Column                  Non-Null Count  Dtype  \n",
      "---  ------                  --------------  -----  \n",
      " 0   PassengerId             418 non-null    int64  \n",
      " 1   Pclass                  418 non-null    int64  \n",
      " 2   Name                    418 non-null    int16  \n",
      " 3   Sex                     418 non-null    int8   \n",
      " 4   Age                     418 non-null    float64\n",
      " 5   SibSp                   418 non-null    int64  \n",
      " 6   Parch                   418 non-null    int64  \n",
      " 7   Ticket                  418 non-null    int16  \n",
      " 8   Fare                    418 non-null    float64\n",
      " 9   Cabin                   418 non-null    int8   \n",
      " 10  Embarked                418 non-null    int8   \n",
      " 11  PassengerId_is_missing  418 non-null    int8   \n",
      " 12  Pclass_is_missing       418 non-null    int8   \n",
      " 13  Name_is_missing         418 non-null    int8   \n",
      " 14  Sex_is_missing          418 non-null    int8   \n",
      " 15  Age_is_missing          418 non-null    int8   \n",
      " 16  SibSp_is_missing        418 non-null    int8   \n",
      " 17  Parch_is_missing        418 non-null    int8   \n",
      " 18  Ticket_is_missing       418 non-null    int8   \n",
      " 19  Fare_is_missing         418 non-null    int8   \n",
      " 20  Cabin_is_missing        418 non-null    int8   \n",
      " 21  Embarked_is_missing     418 non-null    int8   \n",
      "dtypes: float64(2), int16(2), int64(4), int8(14)\n",
      "memory usage: 27.1 KB\n"
     ]
    }
   ],
   "source": [
    "fixed_test.info()"
   ]
  },
  {
   "cell_type": "code",
   "execution_count": 173,
   "id": "9e14e898",
   "metadata": {},
   "outputs": [
    {
     "name": "stdout",
     "output_type": "stream",
     "text": [
      "<class 'pandas.core.frame.DataFrame'>\n",
      "RangeIndex: 891 entries, 0 to 890\n",
      "Data columns (total 22 columns):\n",
      " #   Column                  Non-Null Count  Dtype  \n",
      "---  ------                  --------------  -----  \n",
      " 0   PassengerId             891 non-null    int64  \n",
      " 1   Pclass                  891 non-null    int64  \n",
      " 2   Name                    891 non-null    int16  \n",
      " 3   Sex                     891 non-null    int8   \n",
      " 4   Age                     891 non-null    float64\n",
      " 5   SibSp                   891 non-null    int64  \n",
      " 6   Parch                   891 non-null    int64  \n",
      " 7   Ticket                  891 non-null    int16  \n",
      " 8   Fare                    891 non-null    float64\n",
      " 9   Cabin                   891 non-null    int16  \n",
      " 10  Embarked                891 non-null    int8   \n",
      " 11  PassengerId_is_missing  891 non-null    int8   \n",
      " 12  Pclass_is_missing       891 non-null    int8   \n",
      " 13  Name_is_missing         891 non-null    int8   \n",
      " 14  Sex_is_missing          891 non-null    int8   \n",
      " 15  Age_is_missing          891 non-null    int8   \n",
      " 16  SibSp_is_missing        891 non-null    int8   \n",
      " 17  Parch_is_missing        891 non-null    int8   \n",
      " 18  Ticket_is_missing       891 non-null    int8   \n",
      " 19  Fare_is_missing         891 non-null    int8   \n",
      " 20  Cabin_is_missing        891 non-null    int8   \n",
      " 21  Embarked_is_missing     891 non-null    int8   \n",
      "dtypes: float64(2), int16(3), int64(4), int8(13)\n",
      "memory usage: 58.4 KB\n"
     ]
    }
   ],
   "source": [
    "x_train.info()"
   ]
  },
  {
   "cell_type": "markdown",
   "id": "6772a01f",
   "metadata": {},
   "source": [
    "### lets define a function that finds the best paramters to be used in the model so we can submit our model\n"
   ]
  },
  {
   "cell_type": "code",
   "execution_count": 175,
   "id": "4dc173ab",
   "metadata": {},
   "outputs": [],
   "source": [
    "def get_model_best_model(data,parameters,n_iter,cv = 5):\n",
    "    x_train,x_test,y_train, y_test = train_test_split(data.drop(\"Survived\", axis =1), data[\"Survived\"], test_size = 0.2)\n",
    "    rs_model = RandomizedSearchCV(RandomForestClassifier(n_jobs = -1,\n",
    "                                                    random_state = 42),\n",
    "                             param_distributions=parameters,\n",
    "                             n_iter = 100,\n",
    "                             cv = cv,\n",
    "                             verbose = True)\n",
    "    # now fit our model \n",
    "    rs_model.fit(x_train,y_train)\n",
    "    print(\"Our models Accuracy is {}\".format(predict_and_evaluate_model(rs_model,x_test,y_test)))\n",
    "    return rs_model\n",
    "    "
   ]
  },
  {
   "cell_type": "code",
   "execution_count": 113,
   "id": "3d9a5151",
   "metadata": {},
   "outputs": [
    {
     "data": {
      "text/html": [
       "<div>\n",
       "<style scoped>\n",
       "    .dataframe tbody tr th:only-of-type {\n",
       "        vertical-align: middle;\n",
       "    }\n",
       "\n",
       "    .dataframe tbody tr th {\n",
       "        vertical-align: top;\n",
       "    }\n",
       "\n",
       "    .dataframe thead th {\n",
       "        text-align: right;\n",
       "    }\n",
       "</style>\n",
       "<table border=\"1\" class=\"dataframe\">\n",
       "  <thead>\n",
       "    <tr style=\"text-align: right;\">\n",
       "      <th></th>\n",
       "      <th>PassengerId</th>\n",
       "      <th>Pclass</th>\n",
       "      <th>Name</th>\n",
       "      <th>Sex</th>\n",
       "      <th>Age</th>\n",
       "      <th>SibSp</th>\n",
       "      <th>Parch</th>\n",
       "      <th>Ticket</th>\n",
       "      <th>Fare</th>\n",
       "      <th>Cabin</th>\n",
       "      <th>Embarked</th>\n",
       "      <th>Nameis_missing</th>\n",
       "      <th>Sexis_missing</th>\n",
       "      <th>Ageis_missing</th>\n",
       "      <th>Ticketis_missing</th>\n",
       "      <th>Fareis_missing</th>\n",
       "      <th>Cabinis_missing</th>\n",
       "      <th>Embarkedis_missing</th>\n",
       "    </tr>\n",
       "  </thead>\n",
       "  <tbody>\n",
       "    <tr>\n",
       "      <th>0</th>\n",
       "      <td>892</td>\n",
       "      <td>3</td>\n",
       "      <td>207</td>\n",
       "      <td>2</td>\n",
       "      <td>34.5</td>\n",
       "      <td>0</td>\n",
       "      <td>0</td>\n",
       "      <td>153</td>\n",
       "      <td>7.8292</td>\n",
       "      <td>0</td>\n",
       "      <td>2</td>\n",
       "      <td>0</td>\n",
       "      <td>0</td>\n",
       "      <td>0</td>\n",
       "      <td>0</td>\n",
       "      <td>0</td>\n",
       "      <td>1</td>\n",
       "      <td>0</td>\n",
       "    </tr>\n",
       "    <tr>\n",
       "      <th>1</th>\n",
       "      <td>893</td>\n",
       "      <td>3</td>\n",
       "      <td>404</td>\n",
       "      <td>1</td>\n",
       "      <td>47.0</td>\n",
       "      <td>1</td>\n",
       "      <td>0</td>\n",
       "      <td>222</td>\n",
       "      <td>7.0000</td>\n",
       "      <td>0</td>\n",
       "      <td>3</td>\n",
       "      <td>0</td>\n",
       "      <td>0</td>\n",
       "      <td>0</td>\n",
       "      <td>0</td>\n",
       "      <td>0</td>\n",
       "      <td>1</td>\n",
       "      <td>0</td>\n",
       "    </tr>\n",
       "    <tr>\n",
       "      <th>2</th>\n",
       "      <td>894</td>\n",
       "      <td>2</td>\n",
       "      <td>270</td>\n",
       "      <td>2</td>\n",
       "      <td>62.0</td>\n",
       "      <td>0</td>\n",
       "      <td>0</td>\n",
       "      <td>74</td>\n",
       "      <td>9.6875</td>\n",
       "      <td>0</td>\n",
       "      <td>2</td>\n",
       "      <td>0</td>\n",
       "      <td>0</td>\n",
       "      <td>0</td>\n",
       "      <td>0</td>\n",
       "      <td>0</td>\n",
       "      <td>1</td>\n",
       "      <td>0</td>\n",
       "    </tr>\n",
       "    <tr>\n",
       "      <th>3</th>\n",
       "      <td>895</td>\n",
       "      <td>3</td>\n",
       "      <td>409</td>\n",
       "      <td>2</td>\n",
       "      <td>27.0</td>\n",
       "      <td>0</td>\n",
       "      <td>0</td>\n",
       "      <td>148</td>\n",
       "      <td>8.6625</td>\n",
       "      <td>0</td>\n",
       "      <td>3</td>\n",
       "      <td>0</td>\n",
       "      <td>0</td>\n",
       "      <td>0</td>\n",
       "      <td>0</td>\n",
       "      <td>0</td>\n",
       "      <td>1</td>\n",
       "      <td>0</td>\n",
       "    </tr>\n",
       "    <tr>\n",
       "      <th>4</th>\n",
       "      <td>896</td>\n",
       "      <td>3</td>\n",
       "      <td>179</td>\n",
       "      <td>1</td>\n",
       "      <td>22.0</td>\n",
       "      <td>1</td>\n",
       "      <td>1</td>\n",
       "      <td>139</td>\n",
       "      <td>12.2875</td>\n",
       "      <td>0</td>\n",
       "      <td>3</td>\n",
       "      <td>0</td>\n",
       "      <td>0</td>\n",
       "      <td>0</td>\n",
       "      <td>0</td>\n",
       "      <td>0</td>\n",
       "      <td>1</td>\n",
       "      <td>0</td>\n",
       "    </tr>\n",
       "    <tr>\n",
       "      <th>...</th>\n",
       "      <td>...</td>\n",
       "      <td>...</td>\n",
       "      <td>...</td>\n",
       "      <td>...</td>\n",
       "      <td>...</td>\n",
       "      <td>...</td>\n",
       "      <td>...</td>\n",
       "      <td>...</td>\n",
       "      <td>...</td>\n",
       "      <td>...</td>\n",
       "      <td>...</td>\n",
       "      <td>...</td>\n",
       "      <td>...</td>\n",
       "      <td>...</td>\n",
       "      <td>...</td>\n",
       "      <td>...</td>\n",
       "      <td>...</td>\n",
       "      <td>...</td>\n",
       "    </tr>\n",
       "    <tr>\n",
       "      <th>413</th>\n",
       "      <td>1305</td>\n",
       "      <td>3</td>\n",
       "      <td>354</td>\n",
       "      <td>2</td>\n",
       "      <td>27.0</td>\n",
       "      <td>0</td>\n",
       "      <td>0</td>\n",
       "      <td>268</td>\n",
       "      <td>8.0500</td>\n",
       "      <td>0</td>\n",
       "      <td>3</td>\n",
       "      <td>0</td>\n",
       "      <td>0</td>\n",
       "      <td>1</td>\n",
       "      <td>0</td>\n",
       "      <td>0</td>\n",
       "      <td>1</td>\n",
       "      <td>0</td>\n",
       "    </tr>\n",
       "    <tr>\n",
       "      <th>414</th>\n",
       "      <td>1306</td>\n",
       "      <td>1</td>\n",
       "      <td>284</td>\n",
       "      <td>1</td>\n",
       "      <td>39.0</td>\n",
       "      <td>0</td>\n",
       "      <td>0</td>\n",
       "      <td>325</td>\n",
       "      <td>108.9000</td>\n",
       "      <td>23</td>\n",
       "      <td>1</td>\n",
       "      <td>0</td>\n",
       "      <td>0</td>\n",
       "      <td>0</td>\n",
       "      <td>0</td>\n",
       "      <td>0</td>\n",
       "      <td>0</td>\n",
       "      <td>0</td>\n",
       "    </tr>\n",
       "    <tr>\n",
       "      <th>415</th>\n",
       "      <td>1307</td>\n",
       "      <td>3</td>\n",
       "      <td>333</td>\n",
       "      <td>2</td>\n",
       "      <td>38.5</td>\n",
       "      <td>0</td>\n",
       "      <td>0</td>\n",
       "      <td>347</td>\n",
       "      <td>7.2500</td>\n",
       "      <td>0</td>\n",
       "      <td>3</td>\n",
       "      <td>0</td>\n",
       "      <td>0</td>\n",
       "      <td>0</td>\n",
       "      <td>0</td>\n",
       "      <td>0</td>\n",
       "      <td>1</td>\n",
       "      <td>0</td>\n",
       "    </tr>\n",
       "    <tr>\n",
       "      <th>416</th>\n",
       "      <td>1308</td>\n",
       "      <td>3</td>\n",
       "      <td>385</td>\n",
       "      <td>2</td>\n",
       "      <td>27.0</td>\n",
       "      <td>0</td>\n",
       "      <td>0</td>\n",
       "      <td>221</td>\n",
       "      <td>8.0500</td>\n",
       "      <td>0</td>\n",
       "      <td>3</td>\n",
       "      <td>0</td>\n",
       "      <td>0</td>\n",
       "      <td>1</td>\n",
       "      <td>0</td>\n",
       "      <td>0</td>\n",
       "      <td>1</td>\n",
       "      <td>0</td>\n",
       "    </tr>\n",
       "    <tr>\n",
       "      <th>417</th>\n",
       "      <td>1309</td>\n",
       "      <td>3</td>\n",
       "      <td>303</td>\n",
       "      <td>2</td>\n",
       "      <td>27.0</td>\n",
       "      <td>1</td>\n",
       "      <td>1</td>\n",
       "      <td>106</td>\n",
       "      <td>22.3583</td>\n",
       "      <td>0</td>\n",
       "      <td>1</td>\n",
       "      <td>0</td>\n",
       "      <td>0</td>\n",
       "      <td>1</td>\n",
       "      <td>0</td>\n",
       "      <td>0</td>\n",
       "      <td>1</td>\n",
       "      <td>0</td>\n",
       "    </tr>\n",
       "  </tbody>\n",
       "</table>\n",
       "<p>418 rows × 18 columns</p>\n",
       "</div>"
      ],
      "text/plain": [
       "     PassengerId  Pclass  Name  Sex   Age  SibSp  Parch  Ticket      Fare  \\\n",
       "0            892       3   207    2  34.5      0      0     153    7.8292   \n",
       "1            893       3   404    1  47.0      1      0     222    7.0000   \n",
       "2            894       2   270    2  62.0      0      0      74    9.6875   \n",
       "3            895       3   409    2  27.0      0      0     148    8.6625   \n",
       "4            896       3   179    1  22.0      1      1     139   12.2875   \n",
       "..           ...     ...   ...  ...   ...    ...    ...     ...       ...   \n",
       "413         1305       3   354    2  27.0      0      0     268    8.0500   \n",
       "414         1306       1   284    1  39.0      0      0     325  108.9000   \n",
       "415         1307       3   333    2  38.5      0      0     347    7.2500   \n",
       "416         1308       3   385    2  27.0      0      0     221    8.0500   \n",
       "417         1309       3   303    2  27.0      1      1     106   22.3583   \n",
       "\n",
       "     Cabin  Embarked  Nameis_missing  Sexis_missing  Ageis_missing  \\\n",
       "0        0         2               0              0              0   \n",
       "1        0         3               0              0              0   \n",
       "2        0         2               0              0              0   \n",
       "3        0         3               0              0              0   \n",
       "4        0         3               0              0              0   \n",
       "..     ...       ...             ...            ...            ...   \n",
       "413      0         3               0              0              1   \n",
       "414     23         1               0              0              0   \n",
       "415      0         3               0              0              0   \n",
       "416      0         3               0              0              1   \n",
       "417      0         1               0              0              1   \n",
       "\n",
       "     Ticketis_missing  Fareis_missing  Cabinis_missing  Embarkedis_missing  \n",
       "0                   0               0                1                   0  \n",
       "1                   0               0                1                   0  \n",
       "2                   0               0                1                   0  \n",
       "3                   0               0                1                   0  \n",
       "4                   0               0                1                   0  \n",
       "..                ...             ...              ...                 ...  \n",
       "413                 0               0                1                   0  \n",
       "414                 0               0                0                   0  \n",
       "415                 0               0                1                   0  \n",
       "416                 0               0                1                   0  \n",
       "417                 0               0                1                   0  \n",
       "\n",
       "[418 rows x 18 columns]"
      ]
     },
     "execution_count": 113,
     "metadata": {},
     "output_type": "execute_result"
    }
   ],
   "source": [
    "fixed_test"
   ]
  },
  {
   "cell_type": "code",
   "execution_count": 140,
   "id": "7269e2c6",
   "metadata": {},
   "outputs": [
    {
     "data": {
      "text/plain": [
       "1"
      ]
     },
     "execution_count": 140,
     "metadata": {},
     "output_type": "execute_result"
    }
   ],
   "source": [
    "test.Fare.isna().sum()"
   ]
  },
  {
   "cell_type": "code",
   "execution_count": 141,
   "id": "cc046071",
   "metadata": {},
   "outputs": [
    {
     "data": {
      "text/plain": [
       "0"
      ]
     },
     "execution_count": 141,
     "metadata": {},
     "output_type": "execute_result"
    }
   ],
   "source": [
    "train.Fare.isna().sum()"
   ]
  },
  {
   "cell_type": "code",
   "execution_count": 111,
   "id": "f941c5d2",
   "metadata": {},
   "outputs": [],
   "source": [
    "def predict_and_evaluate_model(model,x_test,y_test):\n",
    "    return accuracy_score(y_test,model.predict(x_test))\n"
   ]
  },
  {
   "cell_type": "code",
   "execution_count": 176,
   "id": "dbe222b0",
   "metadata": {},
   "outputs": [
    {
     "name": "stdout",
     "output_type": "stream",
     "text": [
      "Fitting 5 folds for each of 100 candidates, totalling 500 fits\n",
      "Our models Accuracy is 0.8268156424581006\n",
      "CPU times: total: 4min 51s\n",
      "Wall time: 4min 57s\n"
     ]
    }
   ],
   "source": [
    "%%time\n",
    "from scipy.stats import randint\n",
    "param_distributions = {\n",
    "    'n_estimators': randint(100, 1000),\n",
    "    'max_depth': randint(2, 20),\n",
    "    'min_samples_split': randint(2, 10),\n",
    "    'min_samples_leaf': randint(1, 10),\n",
    "    'max_features': ['auto', 'sqrt']\n",
    "}\n",
    "\n",
    "model = get_model_best_model(fixed_train,param_distributions,n_iter=50)"
   ]
  },
  {
   "cell_type": "code",
   "execution_count": 177,
   "id": "1757d0f9",
   "metadata": {},
   "outputs": [
    {
     "data": {
      "text/plain": [
       "{'max_depth': 16,\n",
       " 'max_features': 'sqrt',\n",
       " 'min_samples_leaf': 1,\n",
       " 'min_samples_split': 3,\n",
       " 'n_estimators': 959}"
      ]
     },
     "execution_count": 177,
     "metadata": {},
     "output_type": "execute_result"
    }
   ],
   "source": [
    "model.best_params_"
   ]
  },
  {
   "cell_type": "code",
   "execution_count": 132,
   "id": "a3def5e3",
   "metadata": {},
   "outputs": [
    {
     "name": "stdout",
     "output_type": "stream",
     "text": [
      "<class 'pandas.core.frame.DataFrame'>\n",
      "RangeIndex: 891 entries, 0 to 890\n",
      "Data columns (total 17 columns):\n",
      " #   Column              Non-Null Count  Dtype  \n",
      "---  ------              --------------  -----  \n",
      " 0   PassengerId         891 non-null    int64  \n",
      " 1   Pclass              891 non-null    int64  \n",
      " 2   Name                891 non-null    int16  \n",
      " 3   Sex                 891 non-null    int8   \n",
      " 4   Age                 891 non-null    float64\n",
      " 5   SibSp               891 non-null    int64  \n",
      " 6   Parch               891 non-null    int64  \n",
      " 7   Ticket              891 non-null    int16  \n",
      " 8   Fare                891 non-null    float64\n",
      " 9   Cabin               891 non-null    int16  \n",
      " 10  Embarked            891 non-null    int8   \n",
      " 11  Nameis_missing      891 non-null    int8   \n",
      " 12  Sexis_missing       891 non-null    int8   \n",
      " 13  Ageis_missing       891 non-null    int8   \n",
      " 14  Ticketis_missing    891 non-null    int8   \n",
      " 15  Cabinis_missing     891 non-null    int8   \n",
      " 16  Embarkedis_missing  891 non-null    int8   \n",
      "dtypes: float64(2), int16(3), int64(4), int8(8)\n",
      "memory usage: 54.1 KB\n"
     ]
    }
   ],
   "source": [
    "fixed_train.drop(\"Survived\", axis = 1).info()"
   ]
  },
  {
   "cell_type": "code",
   "execution_count": 129,
   "id": "68b8483a",
   "metadata": {},
   "outputs": [
    {
     "name": "stdout",
     "output_type": "stream",
     "text": [
      "<class 'pandas.core.frame.DataFrame'>\n",
      "RangeIndex: 418 entries, 0 to 417\n",
      "Data columns (total 18 columns):\n",
      " #   Column              Non-Null Count  Dtype  \n",
      "---  ------              --------------  -----  \n",
      " 0   PassengerId         418 non-null    int64  \n",
      " 1   Pclass              418 non-null    int64  \n",
      " 2   Name                418 non-null    int16  \n",
      " 3   Sex                 418 non-null    int8   \n",
      " 4   Age                 418 non-null    float64\n",
      " 5   SibSp               418 non-null    int64  \n",
      " 6   Parch               418 non-null    int64  \n",
      " 7   Ticket              418 non-null    int16  \n",
      " 8   Fare                418 non-null    float64\n",
      " 9   Cabin               418 non-null    int8   \n",
      " 10  Embarked            418 non-null    int8   \n",
      " 11  Nameis_missing      418 non-null    int8   \n",
      " 12  Sexis_missing       418 non-null    int8   \n",
      " 13  Ageis_missing       418 non-null    int8   \n",
      " 14  Ticketis_missing    418 non-null    int8   \n",
      " 15  Fareis_missing      418 non-null    int8   \n",
      " 16  Cabinis_missing     418 non-null    int8   \n",
      " 17  Embarkedis_missing  418 non-null    int8   \n",
      "dtypes: float64(2), int16(2), int64(4), int8(10)\n",
      "memory usage: 25.4 KB\n"
     ]
    }
   ],
   "source": [
    "fixed_test.info()"
   ]
  },
  {
   "cell_type": "code",
   "execution_count": 178,
   "id": "807394a5",
   "metadata": {},
   "outputs": [],
   "source": [
    "opt_model = RandomForestClassifier(n_jobs = -1,\n",
    "                                  n_estimators = 959\n",
    "                                  ,max_features = 'sqrt',\n",
    "                                  min_samples_leaf=1,\n",
    "                                  min_samples_split=3)\n",
    "opt_model.fit(fixed_train.drop(\"Survived\", axis = 1), fixed_train[\"Survived\"])\n",
    "opt_model_y_pred = opt_model.predict(fixed_test)"
   ]
  },
  {
   "cell_type": "code",
   "execution_count": 183,
   "id": "d8789e88",
   "metadata": {},
   "outputs": [],
   "source": [
    "resulted_df = pd.DataFrame({\"PassengerId\":fixed_test[\"PassengerId\"],\n",
    "                           \"Survived\":opt_model_y_pred})"
   ]
  },
  {
   "cell_type": "code",
   "execution_count": 185,
   "id": "c10668ab",
   "metadata": {},
   "outputs": [],
   "source": [
    "resulted_df.to_csv(\"Titanic_Survival_predctions.csv\",index = False)"
   ]
  },
  {
   "cell_type": "code",
   "execution_count": null,
   "id": "899a9302",
   "metadata": {},
   "outputs": [],
   "source": []
  }
 ],
 "metadata": {
  "kernelspec": {
   "display_name": "Python 3 (ipykernel)",
   "language": "python",
   "name": "python3"
  },
  "language_info": {
   "codemirror_mode": {
    "name": "ipython",
    "version": 3
   },
   "file_extension": ".py",
   "mimetype": "text/x-python",
   "name": "python",
   "nbconvert_exporter": "python",
   "pygments_lexer": "ipython3",
   "version": "3.9.12"
  }
 },
 "nbformat": 4,
 "nbformat_minor": 5
}
